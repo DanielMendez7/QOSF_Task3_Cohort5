{
 "cells": [
  {
   "cell_type": "markdown",
   "id": "87da92be-7d39-4326-b3b1-f418fa204397",
   "metadata": {},
   "source": [
    "<font size=\"3\">**Important:**</font> \n",
    "<br />My initial approach to the problem completely shifted during the second to last day of my deadline(two weeks after I submitted my qosf application). I made an assumption that this was the quantum tic-tac-toe game. However, I asked one of the qosf staff if my assumption is correct, but it was not. It is actually classical tic-tac-toe. This completely shifted my approach to the problem. The solution I have here is a result of a few hours of work after I found out this was based off of classical tic-tac-toe(although I did spend more time on this problem but with a false assumption of this being quantum tic-tac-toe, and therefore that was irrelevant work). If given a bit more time, I could have given a better and complete analysis of my solution. Therefore, I apologize in advance for a poor presentation. However, I hope I may still be considered for the QOSF cohort5. Quantum Information, and Quantum Computing is very exciting and I would like to contribute to the field! Thank you for your time!"
   ]
  },
  {
   "cell_type": "markdown",
   "id": "3cc1f4f1-dc0f-4e29-acdb-c188b37910dc",
   "metadata": {},
   "source": [
    "<font size=\"5\">**Cohort 5 - Task 3 Find best results**</font>\n",
    "\n",
    "For this problem you have the following situation: you are playing a game of tic-tac-toe, and you find the situation in the figure below, next is your turn, develop a quantum algorithm to be able to find the best decisions with higher probability.\n",
    "\n",
    " \n",
    "\n",
    "\n",
    "The following considerations apply:\n",
    "You are the X's.\n",
    "The matrix as a qubit and the state of the X's is |1> and of the O's is |0>, of the empty cells an unknown state.\n",
    "What are the valid combinations to win?\n",
    "You have at most 2 turns\n",
    "\n",
    "A hint for this exercise should consider all the possible ways to win that (there’s 8 of them), for this exercise must obtain with probability the state with the highest probability.\n",
    "\n",
    "\n",
    "for the output only give the status of the empty boxes, you consider this example: \n",
    "\n",
    "If you think the solution is put the values \n",
    "\n",
    "X | O | O \n",
    "X | X  | X\n",
    "O | O | O\n",
    "\n",
    "The state output must be |1100>\n",
    "\n",
    "\n",
    "\n",
    "\n",
    "Bonus : what if we start one step earlier and your opponent has not chosen yet, as shown in the following image, it shows with higher probability the chances of you winning. Please refer to the above considerations.\n",
    "\n",
    "\n"
   ]
  },
  {
   "cell_type": "markdown",
   "id": "a139fc41-1e39-4674-9adc-bc01eab3633b",
   "metadata": {},
   "source": [
    "<font size=\"5\"> **Finding the best decisions in Classical Tic-Tac-Toe using Grovers Algorithm**</font>"
   ]
  },
  {
   "cell_type": "markdown",
   "id": "bbff6491-856a-44ea-ba32-a8b7347b53a0",
   "metadata": {},
   "source": [
    "<font size=\"3\">**Author:** Daniel Mendez</font> (I worked alone on this assignment)\n",
    "\n",
    "<font size=\"3\"><br />**Assumptions(Q/A with Alberto Maldonado):**</font>\n",
    "<br />1) May model this tic tac toe game as a 9-qubit system. However, I will model just the empty cells as a 4 qubit system. \n",
    "<ol>\n",
    "  <li>$|q_{0}>$ is the top left empty cell.</li>\n",
    "  <li>$|q_{1}>$ is the top right empty cell.</li>\n",
    "  <li>$|q_{2}>$ is the bottom left empty cell.</li>\n",
    "  <li>$|q_{3}>$ is the bottom right empty cell.</li>\n",
    "</ol>\n",
    "<br />2) May model each empty cell as an equal superposition, |+>. (must consider that the Xs win, considering the proposed scenario)\n",
    "<br />3) Before the other player chooses a cell, they have an equal probability of choosing any of the empty cells(i.e. Uniform Distribution). Similarly, for myself.\n",
    "<br />4) \"It is the classic tic-tac-toe, the objective is to design the quantum algorithm for decision making, in order to find the best strategy for you to win in the conditions stated in the description. You are X and you must see from the scenario what possible future scenarios you must choose to win, but you must also consider your opponent's decisions. Therefore look for what is best for you in your turn.\"\n",
    "<br />5) Will run my circuit on a simulator to focus more on the algorithm itself.\n",
    "\n",
    "<font size=\"3\"><br />**Solution:**</font>\n",
    "<br />I will use Grovers Algorithm to find the tic-tac-toe board setups that would allow me to win."
   ]
  },
  {
   "cell_type": "markdown",
   "id": "ebbe679f-42ed-49db-a48f-71a16d841ebe",
   "metadata": {},
   "source": [
    "<br />Step 1) **Set-up**\n",
    "<br /> I start with a 4 qubit system $|\\psi>=|q_{3} q_{2} q_{1} q_{0}>$ of the empty cells. By assumption 2, I have $$|\\psi>=|++++>$$ which gives $2^{4}$ possible states $|\\psi>$ may collapse to when measured. This means there are 16 possible setups for the combined 4 empty cells."
   ]
  },
  {
   "cell_type": "code",
   "execution_count": 15,
   "id": "d2a346a6-8206-40ef-8a3e-8e57ee3c451c",
   "metadata": {},
   "outputs": [],
   "source": [
    "#initialization\n",
    "import matplotlib.pyplot as plt\n",
    "import numpy as np\n",
    "\n",
    "# importing Qiskit\n",
    "from qiskit import IBMQ, Aer, assemble, transpile\n",
    "from qiskit import QuantumCircuit, ClassicalRegister, QuantumRegister\n",
    "from qiskit.providers.ibmq import least_busy\n",
    "from qiskit.circuit.library import Diagonal, AND\n",
    "\n",
    "# import basic plot tools\n",
    "from qiskit.visualization import plot_histogram\n",
    "\n",
    "# Create Quantum Circuit\n",
    "#qc = QuantumCircuit(4)\n",
    "def initialize_qc(qc, qubits):\n",
    "    for i in qubits: \n",
    "        qc.h(i)\n",
    "    return qc"
   ]
  },
  {
   "cell_type": "markdown",
   "id": "b919025b-e207-44f4-97b4-b1d2e4b94eb0",
   "metadata": {},
   "source": [
    "<br />Step 2) **Making an Oracle**\n",
    "<br />Taking a quick look at the task prompt, it is easy to see that 2 of the 16 setups will allow me to win. Namely, $|\\psi_{1}>=|0011>$ and $|\\psi_{2}>=|1001>$. These will be my solution states. My oracle, $U_{\\omega}$, will be a diagonal matrix with a negative phase to these two solutions states. \n",
    "$$U_{\\omega}=\\begin{bmatrix} 1 & 0 & 0 & 0 & 0 & 0 & 0 & 0 & 0 & 0 & 0 & 0 & 0 & 0 & 0 & 0\\\\ 0 & 1 & 0 & 0 & 0 & 0 & 0 & 0 & 0 & 0 & 0 & 0 & 0 & 0 & 0 & 0 \\\\ 0 & 0 & 1 & 0 & 0 & 0 & 0 & 0 & 0 & 0 & 0 & 0 & 0 & 0 & 0 & 0 \\\\ 0 & 0 & 0 & -1 & 0 & 0 & 0 & 0 & 0 & 0 & 0 & 0 & 0 & 0 & 0 & 0 \\\\ 0 & 0 & 0 & 0 & 1 & 0 & 0 & 0 & 0 & 0 & 0 & 0 & 0 & 0 & 0 & 0 \\\\ 0 & 0 & 0 & 0 & 0 & 1 & 0 & 0 & 0 & 0 & 0 & 0 & 0 & 0 & 0 & 0 \\\\ 0 & 0 & 0 & 0 & 0 & 0 & 1 & 0 & 0 & 0 & 0 & 0 & 0 & 0 & 0 & 0 \\\\ 0 & 0 & 0 & 0 & 0 & 0 & 0 & 1 & 0 & 0 & 0 & 0 & 0 & 0 & 0 & 0 \\\\ 0 & 0 & 0 & 0 & 0 & 0 & 0 & 0 & 1 & 0 & 0 & 0 & 0 & 0 & 0 & 0 \\\\ 0 & 0 & 0 & 0 & 0 & 0 & 0 & 0 & 0 & -1 & 0 & 0 & 0 & 0 & 0 & 0 \\\\ 0 & 0 & 0 & 0 & 0 & 0 & 0 & 0 & 0 & 0 & 1 & 0 & 0 & 0 & 0 & 0 \\\\ 0 & 0 & 0 & 0 & 0 & 0 & 0 & 0 & 0 & 0 & 0 & 1 & 0 & 0 & 0 & 0 \\\\ 0 & 0 & 0 & 0 & 0 & 0 & 0 & 0 & 0 & 0 & 0 & 0 & 1 & 0 & 0 & 0 \\\\ 0 & 0 & 0 & 0 & 0 & 0 & 0 & 0 & 0 & 0 & 0 & 0 & 0 & 1 & 0 & 0 \\\\ 0 & 0 & 0 & 0 & 0 & 0 & 0 & 0 & 0 & 0 & 0 & 0 & 0 & 0 & 1 & 0 \\\\ 0 & 0 & 0 & 0 & 0 & 0 & 0 & 0 & 0 & 0 & 0 & 0 & 0 & 0 & 0 & 1\\end{bmatrix}$$\n",
    "\n",
    "<br />Based off of $U_{\\omega}$, I will mark the states |0011> and |1001> in my quantum circuit"
   ]
  },
  {
   "cell_type": "code",
   "execution_count": 16,
   "id": "df2c8cb2-9c36-45da-9f2e-e31721030ccd",
   "metadata": {},
   "outputs": [],
   "source": [
    "oracle = Diagonal([1,1,1,-1, 1, 1, 1, 1, 1, -1, 1, 1, 1, 1, 1, 1])\n",
    "oracle.name = \"U$_\\omega$\""
   ]
  },
  {
   "cell_type": "markdown",
   "id": "41b36685-6d85-4ff7-ae53-776912a0a3bf",
   "metadata": {},
   "source": [
    "<br />Step 3) **Make a Diffuser**\n",
    "<br /> Use the general diffuser function in qiskit, but for 4 qubits."
   ]
  },
  {
   "cell_type": "code",
   "execution_count": 17,
   "id": "42d4c04b-dcb2-4557-99b5-11997e414292",
   "metadata": {},
   "outputs": [],
   "source": [
    "# NOTE: THIS IS NOT MY CODE. THIS IS FROM THE QISKIT WEBSITE!\n",
    "def diffuser(nqubits):\n",
    "    qc = QuantumCircuit(nqubits)\n",
    "    # Apply transformation |s> -> |00..0> (H-gates)\n",
    "    for qubit in range(nqubits):\n",
    "        qc.h(qubit)\n",
    "    # Apply transformation |00..0> -> |11..1> (X-gates)\n",
    "    for qubit in range(nqubits):\n",
    "        qc.x(qubit)\n",
    "    # Do multi-controlled-Z gate\n",
    "    qc.h(nqubits-1)\n",
    "    qc.mct(list(range(nqubits-1)), nqubits-1)  # multi-controlled-toffoli\n",
    "    qc.h(nqubits-1)\n",
    "    # Apply transformation |11..1> -> |00..0>\n",
    "    for qubit in range(nqubits):\n",
    "        qc.x(qubit)\n",
    "    # Apply transformation |00..0> -> |s>\n",
    "    for qubit in range(nqubits):\n",
    "        qc.h(qubit)\n",
    "    # We will return the diffuser as a gate\n",
    "    U_s = qc.to_gate()\n",
    "    U_s.name = \"U$_s$\"\n",
    "    return U_s"
   ]
  },
  {
   "cell_type": "markdown",
   "id": "80d00ffc-ed7c-40fa-a110-08e46e6cf72a",
   "metadata": {},
   "source": [
    "<br />Step 4) **Put it all together**\n",
    "<br /> Create the full circuit of Grovers Algorithm"
   ]
  },
  {
   "cell_type": "code",
   "execution_count": 18,
   "id": "1566810d-03fe-4f0b-b775-311bc2c43d19",
   "metadata": {},
   "outputs": [
    {
     "data": {
      "image/png": "[encoded data removed]",
      "text/plain": [
       "<Figure size 628.397x325.08 with 1 Axes>"
      ]
     },
     "execution_count": 18,
     "metadata": {},
     "output_type": "execute_result"
    }
   ],
   "source": [
    "numQubits = 4\n",
    "qubitList = QuantumRegister(4, 'q')  # [0,1,2,3]\n",
    "cbitList = ClassicalRegister(4, 'c') # [0,1,2,3]\n",
    "\n",
    "qc = QuantumCircuit(qubitList, cbitList)\n",
    "qc = initialize_qc(qc, qubitList)\n",
    "\n",
    "# Will run two iterations since we have 2 solutions, but 16 possible states we may obtain when measuring. \n",
    "for i in range(2):\n",
    "    qc.append(oracle, qubitList)\n",
    "    qc.append(diffuser(numQubits), qubitList)\n",
    "\n",
    "\n",
    "qc.measure(qubitList, cbitList)\n",
    "qc.draw()"
   ]
  },
  {
   "cell_type": "markdown",
   "id": "8081b93f-aac9-4ac9-9802-519c0138a615",
   "metadata": {},
   "source": [
    "<br />**Not part of Game**\n",
    "<br />Seeing what the Results look like when running Circuit on a Simulation with 1024 shots. I want my circuit to provide a high probability of either measuring $|\\psi_{1}>=|0011>$ or $|\\psi_{2}>=|1001>$"
   ]
  },
  {
   "cell_type": "code",
   "execution_count": 19,
   "id": "167e1d3c-a10b-4f52-a802-1a32b2cddfdf",
   "metadata": {},
   "outputs": [
    {
     "data": {
      "image/png": "[encoded data removed]",
      "text/plain": [
       "<Figure size 504x360 with 1 Axes>"
      ]
     },
     "execution_count": 19,
     "metadata": {},
     "output_type": "execute_result"
    }
   ],
   "source": [
    "aer_sim = Aer.get_backend('aer_simulator')\n",
    "\n",
    "#qc.save_statevector()\n",
    "transpiled_qc = transpile(qc, aer_sim)\n",
    "qobj = assemble(transpiled_qc)\n",
    "results = aer_sim.run(qobj, memory=True).result()\n",
    "counts = results.get_counts()\n",
    "#print(counts)\n",
    "plot_histogram(counts)\n",
    "\n",
    "# For debugging purposes.\n",
    "#final_state = results.get_statevector()\n",
    "#from qiskit.visualization import array_to_latex\n",
    "#array_to_latex(final_state, prefix=\"\\\\text{Statevector} = \")"
   ]
  },
  {
   "cell_type": "markdown",
   "id": "7255b573-fb51-487b-bc29-1debf314124b",
   "metadata": {},
   "source": [
    "<br />Step 5) **My first measurement(i.e. first turn)**\n",
    "<br />Run Circuit on simulation with only 1 shot. In the classical tic-tac-toe game I would only get one chance to measure the four qubit system, therefore, I will run my circuit only once."
   ]
  },
  {
   "cell_type": "code",
   "execution_count": 20,
   "id": "f8209b60-14ef-447d-b302-a738fdc8f84f",
   "metadata": {},
   "outputs": [
    {
     "name": "stdout",
     "output_type": "stream",
     "text": [
      "c3c2c1c0:  ['1001']\n"
     ]
    }
   ],
   "source": [
    "aer_sim = Aer.get_backend('aer_simulator')\n",
    "\n",
    "transpiled_qc = transpile(qc, aer_sim)\n",
    "qobj = assemble(transpiled_qc)\n",
    "results = aer_sim.run(qobj, shots=1, memory=True).result()\n",
    "plot_histogram(counts)\n",
    "samples = results.get_memory()\n",
    "print(\"c3c2c1c0: \", samples)"
   ]
  },
  {
   "cell_type": "markdown",
   "id": "4831dcf7-1122-4210-872c-428bfaa3c8ad",
   "metadata": {},
   "source": [
    "<br />My resulting measurement will provide me with a game winning board configuration. However, I may only choose to mark an **X** on one of the empty cells. For example, if I receive:\n",
    "<br />$$c3=0, c2=0, c1=1, c0=1$$\n",
    "<br /> Then I will choose to mark an **X** on either the empty cell corresponding to $|q_{1}>$ or mark an **X** on the empty cell corresponding to $|q_{0}>$ with equal probability. (Assumption 3, states uniform distribution.)\n",
    "\n",
    "<br />Similarly, If I receive:\n",
    "<br />$$c3=1, c2=0, c1=0, c0=1$$\n",
    "<br />Then I will choose either to mark an **X** on either the empty cell corresponding to $|q_{3}>$ or mark an **X** on the empty cell corresponding to $|q_{0}>$ with equal probability. (Assumption 3, states uniform distribution.)\n",
    "<br /><br />For the purposes of an example, lets say I choose to mark an **X** on the cell corresponding to $|q_{0}>$"
   ]
  },
  {
   "cell_type": "markdown",
   "id": "b87e358f-f5e4-42e5-a8cd-84943a35d5c6",
   "metadata": {},
   "source": [
    "<br />Step 6) **Opponents first measurement(i.e. their first turn)**\n",
    "<br />According to assumption 3, the opponent also marks one of the three empty cells with equal probability. Lets say they mark an O on the empty cell corresponding to $|q_{4}>$"
   ]
  },
  {
   "cell_type": "markdown",
   "id": "41d04841-9905-4bf6-9274-18619058a13b",
   "metadata": {},
   "source": [
    "<br />Step 7) **My second measurement(i.e. my second turn)**\n",
    "<br />Now there are two empty cells left. Similar to before, I just need to run Grovers algorithm to find me the optimal strategy to win."
   ]
  },
  {
   "cell_type": "markdown",
   "id": "b81e9a37-a284-4de7-99f7-8bfcdda354d7",
   "metadata": {},
   "source": [
    "<br />Step 8) **Finished**"
   ]
  },
  {
   "cell_type": "markdown",
   "id": "ec525e25-9e3b-4b24-83e3-1ed8240bedb7",
   "metadata": {},
   "source": [
    "**Probability Analysis (Incomplete due to time restrictions) :**\n",
    "<br />Step 1) Represent four empty cells as a mixed state. When I see the board, I am guaranteed to be given 4 empty cells in superposition(assumption2). Therefore, I have a pure state, $$\\rho$$\n",
    "<br />Step 2) I measure a cell.\n",
    "<br />Step 3) When the opponent sees the board, they may receive 1 of 4 possible board setups. Therefore, they have a mixed state.\n",
    "<br />Step 4) Opponent measures a cell.\n",
    "<br />Step 5) Etc..."
   ]
  },
  {
   "cell_type": "markdown",
   "id": "b6c8e75a-2b73-4416-a395-47e27c677341",
   "metadata": {},
   "source": [
    "<font size=\"3\">**References:**</font>\n",
    "<br />I used some code from the Grovers Algorithm section of the Qiskit website, but changed a few parts to fit my needs for this task3: https://qiskit.org/textbook/ch-algorithms/grover.html#1.-Introduction-"
   ]
  }
 ],
 "metadata": {
  "kernelspec": {
   "display_name": "Qiskit v0.34.2 (ipykernel)",
   "language": "python",
   "name": "python3"
  },
  "language_info": {
   "codemirror_mode": {
    "name": "ipython",
    "version": 3
   },
   "file_extension": ".py",
   "mimetype": "text/x-python",
   "name": "python",
   "nbconvert_exporter": "python",
   "pygments_lexer": "ipython3",
   "version": "3.8.12"
  },
  "widgets": {
   "application/vnd.jupyter.widget-state+json": {
    "state": {},
    "version_major": 2,
    "version_minor": 0
   }
  }
 },
 "nbformat": 4,
 "nbformat_minor": 5
}
